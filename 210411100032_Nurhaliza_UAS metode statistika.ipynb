{
 "cells": [
  {
   "cell_type": "markdown",
   "id": "7fee631b",
   "metadata": {},
   "source": [
    "#MATERI\n",
    "#ESTIMASI\n",
    "Estimasi merupakan suatu metode dimana kita dapat memperkirakan nilai Populasi dengan memakai nilai sampel. Misalnya rata-rata sampel digunakan untuk menaksir rata-rata pupolasi proporsi sampel untuk menaksir proporsi populasi  ( p ), dan jumlah ciri tertentu sampel untuk menaksir jumlah ciri tertentu populasi. Nilai penduga disebut dengan estimator, sedangkan hasil estimasi disebut dengan estimasi secara statistik.\n",
    "\n",
    "ESTIMASI RATA-RATA ( μ)\n",
    "\n",
    "merupakan pendugaan mengenai data parameter μ yang sebenarnya berdasarkan informasi rata-rata sampel\n",
    "\n",
    "#STANDAR DEVIASI\n",
    "standar deviasi adalah nilai statistik yang dipakai guna menentukan seberapa dekat data dari suatu sampel statistik dengan data mean atau rata-rata data tersebut.\n",
    "\n",
    "Semakin rendah nilai standar deviasi, maka semakin mendekati rata-rata, sedangkan jika nilai standar deviasi semakin tinggi, artinya semakin lebar rentang variasi datanya.\n",
    "Sehingga standar deviasi adalah ukuran besarnya perbedaan dari nilai sampel terhadap rata-rata.\n",
    "\n",
    "Rumus standar deviasi digunakan para ahli statistik untuk mengetahui apakah sampel data yang dipakai dalam perhitungan seperti survei bisa mewakili seluruh populasi.\n",
    "#SKEWNESS DAN KURTOSIS\n",
    "SKEWNESS\n",
    "\n",
    "Kemencengan atau kecondongan (skewness) adalah tingkat ketidaksimetrisan atau kejauhan simetri dari sebuah distribusi. Skewness diartikan sebagai kemiringan distribusi data.\n",
    "\n",
    "KURTOSIS\n",
    "\n",
    "Ukuran keruncingan (Kurtosis) adalah derajat kepuncakan dari suatu distribusi, biasanya diambil relative terhadap distribusi normal. Andi Supangat (2007: 126) mengatakan bahwa tingkat keruncingan dari suatu kurva (kurtosis) merupakan besaran untuk menentukan jenis kurva (runcing, normal, atau datar).\n",
    "\n",
    "#K-NN REGRESI\n",
    "K-Nearest Neighbor\n",
    "(KNN) merupakan salah satu algoritma untuk regresi maupun klasifikasi sudah secara sukses\n",
    "diimplementasikan di berbagai bidang.\n",
    "KNN Regresi, merupakan algoritma yang \n",
    "memberikan pengenalan ke K-terdekat regresi\n",
    "tetangga yang dasar pendekatan Unsupervised K Nearest Neighbor atau UNN, yang mana dalam\n",
    "regresi adalah untuk memprediksi nilai output. Ide \n",
    "KNN didasarkan pada asumsi lokalitas di ruang \n",
    "data. Dalam lingkungan lokal pola x\n",
    "diharapkan memiliki nilai output yang sama y (atau \n",
    "label kelas) untuk f(x). Akibatnya, untuk x′\n",
    "diketahui label harus mirip dengan label dari pola\n",
    "terdekat, yang dimodelkan dengan rata-rata nilai \n",
    "output dari sampel terdekat K\n",
    "\n"
   ]
  },
  {
   "cell_type": "code",
   "execution_count": 1,
   "id": "5d763c88",
   "metadata": {},
   "outputs": [
    {
     "name": "stdout",
     "output_type": "stream",
     "text": [
      "47.801458988590795 < µ < 59.9985410114092\n"
     ]
    }
   ],
   "source": [
    "# NOMOR 2A\n",
    "#untuk menghitung nomor 2a harus menyelesaikan soal 2b terlebih \n",
    "#dahulu untuk mendapat sdeviasi,\n",
    "#karena jumlah data kurang dari 30 maka menggunakan estimasi = \n",
    "#xbar(+-) (t/(alpha/2)) dikali sdeviasi dibagi akar dari n\n",
    "import math\n",
    "n = 10\n",
    "v = n-1\n",
    "xbar = 53.9\n",
    "sdeviasi = 7.504\n",
    "t = 2.57\n",
    "#estimasi rata rata nilai yang lebih kecil dari miu\n",
    "estimasi1 = xbar - t*(sdeviasi/(math.sqrt(n)))\n",
    "#estimasi rata rata nilai yang lebih besar dari miu\n",
    "estimasi2 = xbar + t*(sdeviasi/(math.sqrt(n)))\n",
    "print(estimasi1,'< µ <',estimasi2)"
   ]
  },
  {
   "cell_type": "code",
   "execution_count": 2,
   "id": "a8e0c372",
   "metadata": {},
   "outputs": [
    {
     "name": "stdout",
     "output_type": "stream",
     "text": [
      "Data =  [50, 58, 43, 64, 47, 50, 56, 47, 60, 64]\n",
      "\n",
      "=====Nilai Rata-rata=====\n",
      "Mean = (50 + 58 + 43 + 64 + 47 + 50 + 56 + 47 + 60 + 64) / 10\n",
      "Mean = 53.9\n",
      "\n",
      "=====Nilai Varian=====\n",
      "(50 - 53.9) ^ 2 = 15.209999999999988\n",
      "(58 - 53.9) ^ 2 = 16.810000000000013\n",
      "(43 - 53.9) ^ 2 = 118.80999999999997\n",
      "(64 - 53.9) ^ 2 = 102.01000000000003\n",
      "(47 - 53.9) ^ 2 = 47.60999999999998\n",
      "(50 - 53.9) ^ 2 = 15.209999999999988\n",
      "(56 - 53.9) ^ 2 = 4.410000000000006\n",
      "(47 - 53.9) ^ 2 = 47.60999999999998\n",
      "(60 - 53.9) ^ 2 = 37.210000000000015\n",
      "(64 - 53.9) ^ 2 = 102.01000000000003\n",
      "\n",
      "total = 15.209999999999988 + 16.810000000000013 + 118.80999999999997 + 102.01000000000003 + 47.60999999999998 + 15.209999999999988 + 4.410000000000006 + 47.60999999999998 + 37.210000000000015 + 102.01000000000003\n",
      "total = 506.90000000000003\n",
      "\n",
      "varian = 506.90000000000003 / (9)\n",
      "varian = 56.32222222222222\n",
      "\n",
      "===== Simpangan Baku =====\n",
      "standard deviasi = akar kuadrat dari varian\n",
      "standard deviasi = akar kuadrat(56.32222222222222)\n",
      "standard deviasi = 7.504813270310076\n"
     ]
    }
   ],
   "source": [
    "#2B\n",
    "import statistics\n",
    "data=[50,58,43,64,47,50,56,47,60,64]\n",
    "print('Data = ',data)\n",
    "\n",
    "print('\\n=====Nilai Rata-rata=====')\n",
    "rata = statistics.mean(data)\n",
    "print(f\"Mean = ({' + '.join(f'{x}' for x in data)}) / {len(data)}\")\n",
    "print(f'Mean = {rata}')\n",
    "\n",
    "print('\\n=====Nilai Varian=====')\n",
    "list_varian = []\n",
    "for bilangan in data:\n",
    "  item = (bilangan - rata) ** 2\n",
    "  list_varian.append(item)\n",
    "\n",
    "  print(f'({bilangan} - {rata}) ^ 2 = {item}')\n",
    "\n",
    "varian = sum(list_varian) / (len(data) - 1)\n",
    "\n",
    "print('\\ntotal =', ' + '.join(f'{item}' for item in list_varian))\n",
    "print('total =', sum(list_varian))\n",
    "\n",
    "print(f'\\nvarian = {sum(list_varian)} / ({len(data) - 1})')\n",
    "print(f'varian = {varian}')\n",
    "\n",
    "simpangan_baku = statistics.stdev(data)\n",
    "print('\\n===== Simpangan Baku =====')\n",
    "print('standard deviasi = akar kuadrat dari varian')\n",
    "print(f'standard deviasi = akar kuadrat({varian})')\n",
    "print(f'standard deviasi = {simpangan_baku}')"
   ]
  },
  {
   "cell_type": "code",
   "execution_count": 3,
   "id": "c82ac75f",
   "metadata": {},
   "outputs": [
    {
     "name": "stdout",
     "output_type": "stream",
     "text": [
      "Data =  [50, 58, 43, 64, 47, 50, 56, 47, 60, 64]\n",
      "Skewness: 0.08176290963037283\n",
      "Kurtosis: -1.380579722068635\n"
     ]
    }
   ],
   "source": [
    "#2C\n",
    "from scipy.stats import kurtosis, skew\n",
    "data=[50,58,43,64,47,50,56,47,60,64]\n",
    "print('Data = ',data)\n",
    "\n",
    "sk = skew(data)\n",
    "kr = kurtosis(data)\n",
    "print('Skewness: {}'.format(sk))\n",
    "print('Kurtosis: {}'.format(kr))"
   ]
  },
  {
   "cell_type": "code",
   "execution_count": null,
   "id": "9d011fbe",
   "metadata": {},
   "outputs": [],
   "source": [
    "#3"
   ]
  },
  {
   "cell_type": "code",
   "execution_count": 4,
   "id": "2c3b7467",
   "metadata": {},
   "outputs": [
    {
     "name": "stdout",
     "output_type": "stream",
     "text": [
      "2.5020000000000002 <µ< 2.698\n"
     ]
    }
   ],
   "source": [
    "#4\n",
    "import math\n",
    "n = 36\n",
    "xbar = 2.6\n",
    "sdeviasi = 0.3\n",
    "z = 1.96\n",
    "#rata rata ip yang lebih kecil dari miu\n",
    "rata_rata_ip1 = xbar - z*(sdeviasi/(math.sqrt(n)))\n",
    "##rata rata ip yang lebih besar dari miu\n",
    "rata_rata_ip2 = xbar + z*(sdeviasi/(math.sqrt(n)))\n",
    "print(rata_rata_ip1,'<µ<',rata_rata_ip2)\n",
    "\n"
   ]
  }
 ],
 "metadata": {
  "kernelspec": {
   "display_name": "Python 3 (ipykernel)",
   "language": "python",
   "name": "python3"
  },
  "language_info": {
   "codemirror_mode": {
    "name": "ipython",
    "version": 3
   },
   "file_extension": ".py",
   "mimetype": "text/x-python",
   "name": "python",
   "nbconvert_exporter": "python",
   "pygments_lexer": "ipython3",
   "version": "3.9.12"
  }
 },
 "nbformat": 4,
 "nbformat_minor": 5
}
